{
 "cells": [
  {
   "cell_type": "code",
   "execution_count": 5,
   "metadata": {},
   "outputs": [
    {
     "name": "stdout",
     "output_type": "stream",
     "text": [
      "{'firstname': 'Luis', 'lastname': 'Suarez', 'age': 32, 'city': 'Barcelona', 'qualification': 'high academic level'}\n",
      "{'firstname': 'Luis', 'lastname': 'Suarez', 'age': 32, 'city': 'Barcelona'}\n"
     ]
    }
   ],
   "source": [
    "dict = {\n",
    "    \"firstname\": \"Luis\",\n",
    "    \"lastname\": \"Suarez\",\n",
    "    \"age\": 32,\n",
    "    \"city\": \"Barcelona\",\n",
    "}\n",
    "\n",
    "dict1 = {\n",
    "    \"qualification\": \"high academic level\",\n",
    "        }\n",
    "\n",
    "dict.update(dict1)\n",
    "print(dict)\n",
    "\n",
    "del dict[\"qualification\"]\n",
    "print(dict)"
   ]
  },
  {
   "cell_type": "code",
   "execution_count": 14,
   "metadata": {},
   "outputs": [
    {
     "name": "stdout",
     "output_type": "stream",
     "text": [
      "{'Country': 'Pakistan', 'Population': '2.5 billion', 'Fact': 'Karachi famous for its food'}\n",
      "{'Country': 'England', 'Population': '55.98 million', 'Fact': 'London Has 170 Museums'}\n",
      "{'Country': 'Spain', 'Population': '46.66 million', 'Fact': 'Barcelona is the capital of Catalonia'}\n"
     ]
    }
   ],
   "source": [
    "cities = {\n",
    "    \"city1\": {\n",
    "        \"Country\": \"Pakistan\",\n",
    "        \"Population\": \"2.5 billion\",\n",
    "        \"Fact\": \"Karachi famous for its food\",\n",
    "    },\n",
    "    \n",
    "    \"city2\": {\n",
    "        \"Country\": \"England\",\n",
    "        \"Population\": \"55.98 million\",\n",
    "        \"Fact\": \"London Has 170 Museums\",\n",
    "    },\n",
    "    \n",
    "    \"city3\": {\n",
    "        \"Country\": \"Spain\",\n",
    "        \"Population\": \"46.66 million\",\n",
    "        \"Fact\": \"Barcelona is the capital of Catalonia\",\n",
    "    },\n",
    "}\n",
    "\n",
    "\n",
    "print(cities[\"city1\"])\n",
    "print(cities[\"city2\"])\n",
    "print(cities[\"city3\"])"
   ]
  },
  {
   "cell_type": "code",
   "execution_count": 17,
   "metadata": {},
   "outputs": [
    {
     "name": "stdout",
     "output_type": "stream",
     "text": [
      "How old are you?\n",
      "Enter 'quit' when you are finished. 19\n",
      "  Your ticket is $15.\n",
      "How old are you?\n",
      "Enter 'quit' when you are finished. quit\n"
     ]
    }
   ],
   "source": [
    "prompt = \"How old are you?\"\n",
    "prompt += \"\\nEnter 'quit' when you are finished. \"\n",
    "\n",
    "while True:\n",
    "    age = input(prompt)\n",
    "    if age == 'quit':\n",
    "        break\n",
    "    age = int(age)\n",
    "\n",
    "    if age < 3:\n",
    "        print(\"Free ticket for you!\")\n",
    "    elif age < 13:\n",
    "        print(\"  Your ticket is $10.\")\n",
    "    else:\n",
    "        print(\"  Your ticket is $15.\")"
   ]
  },
  {
   "cell_type": "code",
   "execution_count": 23,
   "metadata": {},
   "outputs": [
    {
     "name": "stdout",
     "output_type": "stream",
     "text": [
      "One of my favorite books is Alice in Wonderland\n"
     ]
    }
   ],
   "source": [
    "def favorite_book(title):\n",
    "    print(\"One of my favorite books is\" \" \" + title)\n",
    "    \n",
    "favorite_book(\"Alice in Wonderland\")"
   ]
  },
  {
   "cell_type": "code",
   "execution_count": 4,
   "metadata": {},
   "outputs": [
    {
     "name": "stdout",
     "output_type": "stream",
     "text": [
      "Take a guess: 1\n",
      "Wrong.....hint: it is greater than the number you entered\n",
      "Take a guess: 2\n",
      "Wrong.....hint: it is greater than the number you entered\n",
      "Take a guess: 3\n",
      "Sorry, the number I had in mind was: 15\n"
     ]
    }
   ],
   "source": [
    "import random\n",
    "guessesTaken = 0\n",
    "randNum=random.randint(1,30)\n",
    "for guessesTaken in range(3):    \n",
    "    guessNum=input(\"Take a guess: \")\n",
    "    guessNum=int(guessNum)\n",
    "    guessesTaken = guessesTaken + 1\n",
    "    \n",
    "    if(guessNum>randNum):\n",
    "        if(guessesTaken<3):\n",
    "            print(\"Wrong.....hint: it is lesser than the number you entered\\n\")\n",
    "        \n",
    "    elif (guessNum<randNum) :\n",
    "        if(guessesTaken<3):\n",
    "            print(\"Wrong.....hint: it is greater than the number you entered\")\n",
    "        \n",
    "    elif(guessNum==randNum):\n",
    "        break;\n",
    "if (guessNum == randNum):\n",
    "    guessesTaken = str(guessesTaken)\n",
    "    print(\"Correct: You guessed the number in \"+guessesTaken+\" guesses\")\n",
    "elif (guessNum != randNum):    \n",
    "    randNum=str(randNum)\n",
    "    print(\"Sorry, the number I had in mind was: \"+randNum)"
   ]
  },
  {
   "cell_type": "code",
   "execution_count": null,
   "metadata": {},
   "outputs": [],
   "source": []
  },
  {
   "cell_type": "code",
   "execution_count": null,
   "metadata": {},
   "outputs": [],
   "source": []
  }
 ],
 "metadata": {
  "kernelspec": {
   "display_name": "Python 3",
   "language": "python",
   "name": "python3"
  },
  "language_info": {
   "codemirror_mode": {
    "name": "ipython",
    "version": 3
   },
   "file_extension": ".py",
   "mimetype": "text/x-python",
   "name": "python",
   "nbconvert_exporter": "python",
   "pygments_lexer": "ipython3",
   "version": "3.7.1"
  }
 },
 "nbformat": 4,
 "nbformat_minor": 2
}
